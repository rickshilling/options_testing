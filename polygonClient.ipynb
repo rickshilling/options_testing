{
 "cells": [
  {
   "cell_type": "markdown",
   "metadata": {},
   "source": [
    "We measure the performance of the iron condor method in options trading.  "
   ]
  },
  {
   "cell_type": "code",
   "execution_count": 4,
   "metadata": {},
   "outputs": [],
   "source": [
    "from polygon import RESTClient"
   ]
  },
  {
   "cell_type": "code",
   "execution_count": 5,
   "metadata": {},
   "outputs": [],
   "source": [
    "client = RESTClient(api_key=\"\")"
   ]
  },
  {
   "cell_type": "code",
   "execution_count": 8,
   "metadata": {},
   "outputs": [],
   "source": [
    "# https://github.com/polygon-io/client-python?tab=readme-ov-file\n",
    "#   1. Get the market price of SPY for time, t\n",
    "#   2. Estimate +/-3,6 points market calls/puts, m_+3, m_-3, m_+6, m_-6 for expiry, t + 1 (Day)  \n",
    "#   3. Subtract market price of +/-6 market call/puts\n",
    "#   4. Add market price of +/-3 market call/puts\n",
    "options_chain = []\n",
    "epsilon = 1e-1\n",
    "for ticker in [\"SPY\"]:\n",
    "    for date_ranges in [(\"2024-05-03\", \"2024-05-04\")]:\n",
    "        current_day = date_ranges[0]\n",
    "        next_day = date_ranges[1]\n",
    "        aggs = client.list_aggs(ticker=ticker, \n",
    "                               multiplier=1, \n",
    "                               timespan=\"minute\", \n",
    "                               from_=current_day, \n",
    "                               to=next_day, \n",
    "                               limit=50000)\n",
    "        for agg in aggs:\n",
    "            market_price = agg.open\n",
    "            call_options_to_buy = client.list_snapshot_options_chain(\n",
    "                ticker,\n",
    "                params={\n",
    "                    \"expiration_date.gte\": next_day,\n",
    "                    \"strike_price.gte\": market_price + 6 - epsilon,\n",
    "                    \"strike_price.lte\": market_price + 6 + epsilon,\n",
    "                    \"contract_type\": \"call\"\n",
    "                },\n",
    "            )\n",
    "            put_options_to_buy = client.list_snapshot_options_chain(\n",
    "                ticker,\n",
    "                params={\n",
    "                    \"expiration_date.gte\": next_day,\n",
    "                    \"strike_price.gte\": market_price - 6 - epsilon,\n",
    "                    \"strike_price.lte\": market_price - 6 + epsilon,\n",
    "                    \"contract_type\": \"put\"\n",
    "                },\n",
    "            )\n",
    "            call_options_to_sell = client.list_snapshot_options_chain(\n",
    "                ticker,\n",
    "                params={\n",
    "                    \"expiration_date.gte\": next_day,\n",
    "                    \"strike_price.gte\": market_price + 3 - epsilon,\n",
    "                    \"strike_price.lte\": market_price + 3 + epsilon,\n",
    "                    \"contract_type\": \"call\"\n",
    "                },\n",
    "            )\n",
    "            put_options_to_sell = client.list_snapshot_options_chain(\n",
    "                ticker,\n",
    "                params={\n",
    "                    \"expiration_date.gte\": next_day,\n",
    "                    \"strike_price.gte\": market_price - 3 - epsilon,\n",
    "                    \"strike_price.lte\": market_price - 3 + epsilon,\n",
    "                    \"contract_type\": \"put\"\n",
    "                },\n",
    "            )"
   ]
  }
 ],
 "metadata": {
  "kernelspec": {
   "display_name": "dl_310",
   "language": "python",
   "name": "python3"
  },
  "language_info": {
   "codemirror_mode": {
    "name": "ipython",
    "version": 3
   },
   "file_extension": ".py",
   "mimetype": "text/x-python",
   "name": "python",
   "nbconvert_exporter": "python",
   "pygments_lexer": "ipython3",
   "version": "3.10.14"
  }
 },
 "nbformat": 4,
 "nbformat_minor": 2
}
